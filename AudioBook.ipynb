{
 "cells": [
  {
   "cell_type": "code",
   "execution_count": 1,
   "id": "fc9551df",
   "metadata": {},
   "outputs": [
    {
     "data": {
      "text/plain": [
       "0"
      ]
     },
     "execution_count": 1,
     "metadata": {},
     "output_type": "execute_result"
    }
   ],
   "source": [
    "from gtts import gTTS \n",
    "import os \n",
    "fh = open(\"C:\\\\Users\\kumar\\Desktop/AIspeech.txt\", 'r')\n",
    "myText = fh.read()\n",
    "language = 'hi'\n",
    "output = gTTS(text=myText, lang=language, slow=False)\n",
    "output.save(\"output.mp3\")\n",
    "fh.close()\n",
    "os.system(\"start output.mp3\")"
   ]
  },
  {
   "cell_type": "code",
   "execution_count": 2,
   "id": "bbe2e8da",
   "metadata": {},
   "outputs": [
    {
     "name": "stdout",
     "output_type": "stream",
     "text": [
      "AN EQUATION FOR ME HAS NO MEANING UNLESS IT EXPRESSES A THOUGHT OF GOD SRINIVASA RAMANUJAN.\n",
      "PYTHON\n",
      "MACHINE LEARNING\n",
      "DEEP LEARNING\n",
      "ARTIFICIAL INTELLIGENCE\n",
      "DATA SCIENCE\n",
      "DATA STRUCTURE AND ALGORITHM\n",
      "MATHEMATICS \n",
      "PROBABILITY AND STATISTICS\n"
     ]
    }
   ],
   "source": [
    "filename =open(\"C:\\\\Users\\kumar\\Desktop/AIspeech.txt\", 'r')\n",
    "text1 = filename.read()\n",
    "print(text1)\n"
   ]
  },
  {
   "cell_type": "code",
   "execution_count": null,
   "id": "faab4d7e",
   "metadata": {},
   "outputs": [],
   "source": [
    "# importing the modules\n",
    "import PyPDF2\n",
    "import pyttsx3\n",
    "\n",
    "# path of the PDF file\n",
    "path = open('C:\\\\Users\\kumar\\Downloads/Education.pdf', 'rb')\n",
    "\n",
    "# creating a PdfFileReader object\n",
    "pdfReader = PyPDF2.PdfFileReader(path)\n",
    "\n",
    "# the page with which you want to start\n",
    "# this will read the page of 25th page.\n",
    "from_page = pdfReader.getPage(12)\n",
    "\n",
    "# extracting the text from the PDF\n",
    "text = from_page.extractText()\n",
    "\n",
    "# reading the text\n",
    "speak = pyttsx3.init()\n",
    "speak.say(text)\n",
    "speak.runAndWait()\n",
    "print(from_page.read())\n"
   ]
  },
  {
   "cell_type": "code",
   "execution_count": null,
   "id": "77249d60",
   "metadata": {},
   "outputs": [],
   "source": []
  }
 ],
 "metadata": {
  "kernelspec": {
   "display_name": "Python 3 (ipykernel)",
   "language": "python",
   "name": "python3"
  },
  "language_info": {
   "codemirror_mode": {
    "name": "ipython",
    "version": 3
   },
   "file_extension": ".py",
   "mimetype": "text/x-python",
   "name": "python",
   "nbconvert_exporter": "python",
   "pygments_lexer": "ipython3",
   "version": "3.9.12"
  }
 },
 "nbformat": 4,
 "nbformat_minor": 5
}
